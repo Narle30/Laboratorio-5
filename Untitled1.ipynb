{
  "nbformat": 4,
  "nbformat_minor": 0,
  "metadata": {
    "colab": {
      "provenance": [],
      "authorship_tag": "ABX9TyPFxVAWNIDUBl+3xb/KjQ5s",
      "include_colab_link": true
    },
    "kernelspec": {
      "name": "python3",
      "display_name": "Python 3"
    },
    "language_info": {
      "name": "python"
    }
  },
  "cells": [
    {
      "cell_type": "markdown",
      "metadata": {
        "id": "view-in-github",
        "colab_type": "text"
      },
      "source": [
        "<a href=\"https://colab.research.google.com/github/Narle30/Laboratorio-5/blob/main/Untitled1.ipynb\" target=\"_parent\"><img src=\"https://colab.research.google.com/assets/colab-badge.svg\" alt=\"Open In Colab\"/></a>"
      ]
    },
    {
      "cell_type": "markdown",
      "source": [],
      "metadata": {
        "id": "0Sl4zxAtN1BM"
      }
    },
    {
      "cell_type": "code",
      "source": [
        "#SESION 19_LABORATORIO_EJERCICIOS 1Y2\n",
        "#EJERICICIO 1\n",
        "#PUNTO_2\n",
        "# Solicitar al usuario un número\n",
        "numero = int(input(\"Introduce un número: \"))\n",
        "\n",
        "# Comprobar si el número es par o impar\n",
        "if numero % 2 == 0:\n",
        "    print(f\"El número {numero} es par.\")\n",
        "else:\n",
        "    print(f\"El número {numero} es impar.\")\n",
        "\n",
        "#PUNTO_2\n",
        "# Solicitar al usuario un número entre 1 y 999\n",
        "numero = int(input(\"Introduce un número positivo de 1 a 999: \"))\n",
        "\n",
        "# Comprobar la cantidad de dígitos del número\n",
        "if numero >= 1 and numero <= 9:\n",
        "    print(f\"El número {numero} tiene 1 dígito.\")\n",
        "elif numero >= 10 and numero <= 99:\n",
        "    print(f\"El número {numero} tiene 2 dígitos.\")\n",
        "elif numero >= 100 and numero <= 999:\n",
        "    print(f\"El número {numero} tiene 3 dígitos.\")\n",
        "else:\n",
        "    print(\"El número ingresado no está en el rango de 1 a 999.\")\n",
        "\n"
      ],
      "metadata": {
        "colab": {
          "base_uri": "https://localhost:8080/"
        },
        "id": "tUCqF6n6OgBg",
        "outputId": "e2ed3354-8f4b-4171-fdbf-e011397114de"
      },
      "execution_count": 1,
      "outputs": [
        {
          "output_type": "stream",
          "name": "stdout",
          "text": [
            "Introduce un número: 5\n",
            "El número 5 es impar.\n",
            "Introduce un número positivo de 1 a 999: 678\n",
            "El número 678 tiene 3 dígitos.\n"
          ]
        }
      ]
    },
    {
      "cell_type": "code",
      "source": [
        "#EJERCICIO 2\n",
        "n=int(input(\"¿Cuantos empleados tiene la empresa?\"))\n",
        "x = 1\n",
        "conta1 = 0  # Empleados que ganan entre $1,000,000 y $3,000,000\n",
        "conta2 = 0  # Empleados que ganan más de $3,000,000\n",
        "gastos = 0   # Total gastado en sueldos\n",
        "\n",
        "while x <= n:\n",
        " sueldo = float(input(\"Ingrese el sueldo del empleado: \"))\n",
        "\n",
        "# Verificar si el sueldo está entre 1,000,000 y 3,000,000\n",
        " if 1000000 <= sueldo <= 3000000:\n",
        "        conta1 += 1\n",
        "# Verificar si el sueldo es mayor a 3,000,000\n",
        " else:\n",
        "        conta2 += 1\n",
        "# Acumular el gasto total de la empresa\n",
        " gastos += sueldo\n",
        " x += 1  # Incrementar el contador para seguir con el siguiente empleado\n",
        "\n",
        "# Mostrar los resultados\n",
        "print(f\"Empleados que ganan entre $1,000,000 y $3,000,000: {conta1}\")\n",
        "print(f\"Empleados que ganan más de $3,000,000: {conta2}\")\n",
        "print(f\"Total gastado en sueldos: ${gastos}\")\n",
        "\n",
        "#PARTE 2\n",
        "# Inicializo las variables para contar los puntos en cada cuadrante\n",
        "cant1 = 0  # Primer cuadrante (x > 0, y > 0)\n",
        "cant2 = 0  # Segundo cuadrante (x < 0, y > 0)\n",
        "cant3 = 0  # Tercer cuadrante (x < 0, y < 0)\n",
        "cant4 = 0  # Cuarto cuadrante (x > 0, y < 0)\n",
        "\n",
        "# Solicitar la cantidad de puntos a procesar\n",
        "n = int(input(\"Cantidad de puntos: \"))\n",
        "\n",
        "# Bucle para ingresar las coordenadas de los puntos\n",
        "for f in range(n):\n",
        "    x = int(input(\"Ingrese coordenada x: \"))\n",
        "    y = int(input(\"Ingrese coordenada y: \"))\n",
        "\n",
        "# Verificar en qué cuadrante está el punto\n",
        "    if x > 0 and y > 0:\n",
        "        cant1 += 1  # Primer cuadrante\n",
        "    elif x < 0 and y > 0:\n",
        "        cant2 += 1  # Segundo cuadrante\n",
        "    elif x < 0 and y < 0:\n",
        "        cant3 += 1  # Tercer cuadrante\n",
        "    elif x > 0 and y < 0:\n",
        "        cant4 += 1  # Cuarto cuadrante\n",
        "    elif x == 0 and y == 0:\n",
        "        print(\"El punto está en el origen, no pertenece a ningún cuadrante.\")\n",
        "    elif x == 0:\n",
        "        print(\"El punto está sobre el eje Y.\")\n",
        "    elif y == 0:\n",
        "        print(\"El punto está sobre el eje X.\")\n",
        "\n",
        "# Mostrar los resultados\n",
        "print(f\"Puntos en el primer cuadrante: {cant1}\")\n",
        "print(f\"Puntos en el segundo cuadrante: {cant2}\")\n",
        "print(f\"Puntos en el tercer cuadrante: {cant3}\")\n",
        "print(f\"Puntos en el cuarto cuadrante: {cant4}\")\n",
        "\n"
      ],
      "metadata": {
        "colab": {
          "base_uri": "https://localhost:8080/"
        },
        "id": "eLmecaUNVa9E",
        "outputId": "9bdcab5d-6d55-430b-8760-9bdfb165500f"
      },
      "execution_count": 16,
      "outputs": [
        {
          "output_type": "stream",
          "name": "stdout",
          "text": [
            "¿Cuantos empleados tiene la empresa?5\n",
            "Ingrese el sueldo del empleado: 4000000\n",
            "Ingrese el sueldo del empleado: 1000000\n",
            "Ingrese el sueldo del empleado: 1000000\n",
            "Ingrese el sueldo del empleado: 1400000\n",
            "Ingrese el sueldo del empleado: 4000000\n",
            "Empleados que ganan entre $1,000,000 y $3,000,000: 3\n",
            "Empleados que ganan más de $3,000,000: 2\n",
            "Total gastado en sueldos: $11400000.0\n",
            "Cantidad de puntos: 2\n",
            "Ingrese coordenada x: -2\n",
            "Ingrese coordenada y: 5\n",
            "Ingrese coordenada x: 8\n",
            "Ingrese coordenada y: 9\n",
            "Puntos en el primer cuadrante: 1\n",
            "Puntos en el segundo cuadrante: 1\n",
            "Puntos en el tercer cuadrante: 0\n",
            "Puntos en el cuarto cuadrante: 0\n"
          ]
        }
      ]
    },
    {
      "cell_type": "code",
      "source": [
        "#EJERCICIO 3\n",
        "# Crear un diccionario con los nombres de los estudiantes y sus calificaciones\n",
        "calificaciones = {\n",
        "    'Juan': 85,\n",
        "    'María': 92,\n",
        "    'Carlos': 78\n",
        "}\n",
        "\n",
        "# Encontrar el estudiante con la calificación más alta\n",
        "nombre_max = max(calificaciones, key=calificaciones.get)\n",
        "\n",
        "# Imprimir el resultado\n",
        "print(f\"El estudiante con la calificación más alta es {nombre_max} con una calificación de {calificaciones[nombre_max]}.\")\n"
      ],
      "metadata": {
        "colab": {
          "base_uri": "https://localhost:8080/"
        },
        "id": "Yf889EFIe2Mx",
        "outputId": "a7385442-aa60-45cf-f449-89258ecc889b"
      },
      "execution_count": 13,
      "outputs": [
        {
          "output_type": "stream",
          "name": "stdout",
          "text": [
            "El estudiante con la calificación más alta es María con una calificación de 92.\n"
          ]
        }
      ]
    },
    {
      "cell_type": "code",
      "source": [
        "#EJERCICIO 4\n",
        "# Diccionario inicial con algunos estudiantes y sus calificaciones\n",
        "estudiantes = {\n",
        "    \"Juan\": 5.0,\n",
        "    \"Ana\": 4.2,\n",
        "    \"Luis\": 4.5\n",
        "}\n",
        "\n",
        "# Solicitar el nombre del estudiante y su calificación\n",
        "nombre = input(\"Ingrese el nombre del estudiante: \")\n",
        "calificacion = float(input(f\"Ingrese la calificación de {nombre}: \"))\n",
        "\n",
        "# Verificar si el estudiante ya existe en el diccionario\n",
        "if nombre in estudiantes:\n",
        "    # Si el estudiante existe, actualizar su calificación\n",
        "    estudiantes[nombre] = calificacion\n",
        "    print(f\"La calificación de {nombre} ha sido actualizada a {calificacion}.\")\n",
        "else:\n",
        "# Si el estudiante no existe, agregarlo al diccionario\n",
        "    estudiantes[nombre] = calificacion\n",
        "    print(f\"{nombre} ha sido agregado con una calificación de {calificacion}.\")\n",
        "\n",
        "# Mostrar todos los estudiantes y sus calificaciones\n",
        "print(\"\\nLista de estudiantes y sus calificaciones:\")\n",
        "for estudiante, calificacion in estudiantes.items():\n",
        "    print(f\"{estudiante}: {calificacion}\")\n"
      ],
      "metadata": {
        "colab": {
          "base_uri": "https://localhost:8080/"
        },
        "id": "tc3ge-hJg_bB",
        "outputId": "bcc7def7-d897-4f9f-9cad-4e711aaa21fa"
      },
      "execution_count": 14,
      "outputs": [
        {
          "output_type": "stream",
          "name": "stdout",
          "text": [
            "Ingrese el nombre del estudiante: Juan\n",
            "Ingrese la calificación de Juan: 5.0\n",
            "La calificación de Juan ha sido actualizada a 5.0.\n",
            "\n",
            "Lista de estudiantes y sus calificaciones:\n",
            "Juan: 5.0\n",
            "Ana: 4.2\n",
            "Luis: 4.5\n"
          ]
        }
      ]
    },
    {
      "cell_type": "markdown",
      "source": [],
      "metadata": {
        "id": "IPLGzzxyfKQh"
      }
    }
  ]
}